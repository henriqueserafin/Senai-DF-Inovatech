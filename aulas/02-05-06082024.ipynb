{
 "cells": [
  {
   "cell_type": "code",
   "execution_count": null,
   "metadata": {},
   "outputs": [],
   "source": [
    "! pip install pandas\n",
    "! pip install SQLAlchemy\n",
    "! pip install pymysql\n"
   ]
  },
  {
   "cell_type": "code",
   "execution_count": null,
   "metadata": {},
   "outputs": [],
   "source": [
    "# import pymysql\n",
    "# import urllib.parse\n",
    "# # definir as credenciais\n",
    "# user = 'root'\n",
    "# password = urllib.parse.quote_plus('senai@123')\n",
    "# host  = 'localhost'\n",
    "# database = 'projetodiario1'\n",
    "# # criar uma url de conexão\n",
    "# connection_string = f'mysql+pymysql://{user}:{password}@{host}/{database}'\n",
    "# # criar a conexão com o create_engine()\n",
    "# engine = create_engine(connection_string)\n",
    "# # escrever uma consulta SQL\n",
    "# query_alunos = \"SELECT * FROM aluno\"\n",
    "# # criar o dataframe\n",
    "# df_alunos = pd.read_sql(query_alunos,engine)\n",
    "# # mostrar os cinco primeiros\n",
    "# df_alunos.head()\n"
   ]
  },
  {
   "cell_type": "code",
   "execution_count": null,
   "metadata": {},
   "outputs": [],
   "source": [
    "import pymysql\n",
    "import urllib.parse\n",
    "import sqlalchemy as sa\n",
    "import pandas as pd\n",
    "\n",
    "import pymysql\n",
    "import urllib.parse\n",
    "# definir as credenciais\n",
    "user = 'root'\n",
    "password = urllib.parse.quote_plus('senai@123')\n",
    "host  = 'localhost'\n",
    "database = 'schooltracker'\n",
    "# criar uma url de conexão\n",
    "connection_string = f'mysql+pymysql://{user}:{password}@{host}/{database}'\n",
    "# criar a conexão com o create_engine()\n",
    "engine = create_engine(connection_string)\n",
    "# escrever uma consulta SQL\n",
    "query_alunos = \"SELECT * FROM aluno\"\n",
    "# criar o dataframe\n",
    "df_alunos = pd.read_sql(query_alunos,engine)\n",
    "# mostrar os cinco primeiros\n",
    "df_alunos.head()\n",
    "\n"
   ]
  },
  {
   "cell_type": "markdown",
   "metadata": {},
   "source": [
    "## Qauis são as bibliotecas que o cientista de dados utiliza\n",
    "- Pandas: ciencia de dados\n",
    "- NumPy: matemátiva\n",
    "- Fundamentos de IA (Scikit-Learn): elaboração de modelos de ia\n",
    "\n",
    "## Como o cientista de dados organiza e manipula dados\n",
    "\n",
    "- Importar bibliotecas\n",
    "- Carregar dados\n",
    "- Explorar dados\n",
    "- Preparar dados\n",
    "- Modelar dados\n",
    "\n",
    "### Como o cientista de dados gera insights\n",
    "\n",
    "- Análise de dados\n",
    "- Exploração de dados\n",
    "- Visualização de dados\n",
    "- Interpretando dados\n",
    "- Comunicando insights\n",
    "\n",
    "### Como o cientista de dados cria modelos\n",
    "\n",
    "- Definindo o objetivo\n",
    "- Escolhendo a técnica\n",
    "- Treinando o modelo\n",
    "- Avaliando o modelo\n",
    "- Usando o modelo\n",
    "\n",
    "### Como o cientista de dados interpreta os resultados\n",
    "\n",
    "- Interpretando resultados\n",
    "- Comunicando resultados\n",
    "- Relacionando resultados\n",
    "- Atualizando insights\n",
    "\n"
   ]
  },
  {
   "cell_type": "code",
   "execution_count": null,
   "metadata": {},
   "outputs": [],
   "source": [
    "df_alunos.to_csv('alunos.csv',index=False,)"
   ]
  },
  {
   "cell_type": "code",
   "execution_count": null,
   "metadata": {},
   "outputs": [],
   "source": [
    "print(df_alunos)"
   ]
  },
  {
   "cell_type": "code",
   "execution_count": null,
   "metadata": {},
   "outputs": [],
   "source": [
    "df_alunos.to_json('alunos2.json',index=True,)"
   ]
  },
  {
   "cell_type": "code",
   "execution_count": null,
   "metadata": {},
   "outputs": [],
   "source": [
    "! pip install openpyxl"
   ]
  },
  {
   "cell_type": "code",
   "execution_count": null,
   "metadata": {},
   "outputs": [],
   "source": [
    "xlsx_filename='alunos3.xlsx'\n",
    "df_alunos.to_excel(xlsx_filename,index=False)"
   ]
  },
  {
   "cell_type": "code",
   "execution_count": null,
   "metadata": {},
   "outputs": [],
   "source": [
    "df_alunos.columns"
   ]
  },
  {
   "cell_type": "code",
   "execution_count": null,
   "metadata": {},
   "outputs": [],
   "source": [
    "\n",
    "df_tempo_renda=df_tempo_renda=df_alunos[['tempoestudo','rendafamiliar']]\n",
    "df_tempo_renda[0:]"
   ]
  },
  {
   "cell_type": "code",
   "execution_count": null,
   "metadata": {},
   "outputs": [],
   "source": [
    "# tipos\n",
    "print(type(df_tempo_renda))"
   ]
  },
  {
   "cell_type": "code",
   "execution_count": null,
   "metadata": {},
   "outputs": [],
   "source": [
    "# exercicio: crie um recurso para mostrar apenas uma coluna, mostra qual o tipo desse recurso\n",
    "serie_tempo_renda=df_tempo_renda['rendafamiliar']\n",
    "type(serie_tempo_renda)\n"
   ]
  },
  {
   "cell_type": "markdown",
   "metadata": {},
   "source": [
    "### 06/08 Revisando funções básicas"
   ]
  },
  {
   "cell_type": "code",
   "execution_count": null,
   "metadata": {},
   "outputs": [],
   "source": [
    "# retorne o datafreame da ultima aula com as duas primeiras loinhaas com po amostras\n",
    "df_tempo_renda[:2]"
   ]
  },
  {
   "cell_type": "code",
   "execution_count": null,
   "metadata": {},
   "outputs": [],
   "source": [
    "# retorne as ultimas 2\n",
    "df_tempo_renda.tail(2)"
   ]
  },
  {
   "cell_type": "code",
   "execution_count": null,
   "metadata": {},
   "outputs": [],
   "source": [
    "# retorne uma tupla com o número de linha e colunas\n",
    "df_tempo_renda.shape"
   ]
  },
  {
   "cell_type": "code",
   "execution_count": null,
   "metadata": {},
   "outputs": [],
   "source": [
    "# retorne as iformações gerais do dataframe\n",
    "\n",
    "df_tempo_renda.info()"
   ]
  },
  {
   "cell_type": "code",
   "execution_count": null,
   "metadata": {},
   "outputs": [],
   "source": [
    "qtde=len(df_tempo_renda)\n",
    "if qtde<=76:\n",
    "    print(f\"quantidade: {qtde}\")\n"
   ]
  },
  {
   "cell_type": "code",
   "execution_count": null,
   "metadata": {},
   "outputs": [],
   "source": [
    "df_tempo_renda['rendafamiliar'].info()"
   ]
  },
  {
   "cell_type": "code",
   "execution_count": null,
   "metadata": {},
   "outputs": [],
   "source": [
    "df_alunos.dtypes"
   ]
  },
  {
   "cell_type": "code",
   "execution_count": null,
   "metadata": {},
   "outputs": [],
   "source": [
    "df_alunos.describe()"
   ]
  },
  {
   "cell_type": "code",
   "execution_count": null,
   "metadata": {},
   "outputs": [],
   "source": [
    "query_diariobordo = \"SELECT * FROM diariobordo\"\n",
    "df_diariobordo = pd.read_sql(query_diariobordo,engine)\n",
    "print(df_diariobordo)\n",
    "\n",
    "\n"
   ]
  },
  {
   "cell_type": "code",
   "execution_count": null,
   "metadata": {},
   "outputs": [],
   "source": [
    "# escrever uma consulta SQL\n",
    "query_diariobordo = \"SELECT * FROM diariobordo\"\n",
    "query_avaliacao = \"SELECT * FROM avaliacao\"\n",
    "# criar o dataframe\n",
    "df_avaliacao = pd.read_sql(query_avaliacao,engine)\n",
    "df_diariobordo = pd.read_sql(query_alunos,engine)\n",
    "# mostrar\n",
    "print(df_diariobordo)\n",
    "print(df_avaliacao)\n"
   ]
  },
  {
   "cell_type": "code",
   "execution_count": null,
   "metadata": {},
   "outputs": [],
   "source": [
    "# fazer funções\n",
    "df_avaliacao.dtypes\n",
    "df_diariobordo.describe()\n",
    "df_avaliacao.shape"
   ]
  },
  {
   "cell_type": "markdown",
   "metadata": {},
   "source": [
    "# Vamos fazer um join?\n",
    "\n",
    "### pasos para o merge\n",
    "- use o comando merge\n",
    "- criar uma variavel resultado\n",
    "- ``` pd.merge(df_diariobordo, df aluno, tipo_uniao, {qual chave da esquerda}, {qual a chave da direita})``` - queremos unir\n",
    "- qual o tipo de união: how='inner'\n",
    "- inner significa que queremos um join interno, o que resulta em apenas as linhas que tem correspondência em ambos os DataFrame\n"
   ]
  },
  {
   "cell_type": "code",
   "execution_count": null,
   "metadata": {},
   "outputs": [],
   "source": [
    "# realizando o join\n",
    "resultado = pd.merge(df_diariobordo,df_alunos, how='left', left_on='fk_Aluno_id', right_on='id')\n",
    "\n",
    "# selecionar as partes desejadas\n",
    "resultado_selecionado = resultado [['texto','datahora','ra']]\n",
    "\n",
    "# Mostrar o resultado\n",
    "resultado_selecionado.head()\n",
    "\n"
   ]
  },
  {
   "cell_type": "code",
   "execution_count": null,
   "metadata": {},
   "outputs": [],
   "source": [
    "df_avaliacao"
   ]
  },
  {
   "cell_type": "code",
   "execution_count": null,
   "metadata": {},
   "outputs": [],
   "source": [
    "# realizando o join\n",
    "desafio = pd.merge(df_avaliacao,df_alunos, how='left', left_on='fk_Aluno_id', right_on='id')\n",
    "\n",
    "# selecionar as partes desejadas\n",
    "desafio_selecionado = resultado [['nota1','ra']]\n",
    "\n",
    "\n",
    "# Mostrar o resultado\n",
    "desafio_selecionado.head()"
   ]
  },
  {
   "cell_type": "code",
   "execution_count": 202,
   "metadata": {},
   "outputs": [
    {
     "data": {
      "text/html": [
       "<div>\n",
       "<style scoped>\n",
       "    .dataframe tbody tr th:only-of-type {\n",
       "        vertical-align: middle;\n",
       "    }\n",
       "\n",
       "    .dataframe tbody tr th {\n",
       "        vertical-align: top;\n",
       "    }\n",
       "\n",
       "    .dataframe thead th {\n",
       "        text-align: right;\n",
       "    }\n",
       "</style>\n",
       "<table border=\"1\" class=\"dataframe\">\n",
       "  <thead>\n",
       "    <tr style=\"text-align: right;\">\n",
       "      <th></th>\n",
       "      <th>nota1</th>\n",
       "      <th>nota2</th>\n",
       "      <th>nota3</th>\n",
       "      <th>nota4</th>\n",
       "      <th>ra</th>\n",
       "    </tr>\n",
       "  </thead>\n",
       "  <tbody>\n",
       "    <tr>\n",
       "      <th>0</th>\n",
       "      <td>14</td>\n",
       "      <td>21</td>\n",
       "      <td>24</td>\n",
       "      <td>12</td>\n",
       "      <td>00176143</td>\n",
       "    </tr>\n",
       "    <tr>\n",
       "      <th>1</th>\n",
       "      <td>17</td>\n",
       "      <td>20</td>\n",
       "      <td>8</td>\n",
       "      <td>9</td>\n",
       "      <td>0034543</td>\n",
       "    </tr>\n",
       "    <tr>\n",
       "      <th>2</th>\n",
       "      <td>19</td>\n",
       "      <td>1</td>\n",
       "      <td>4</td>\n",
       "      <td>7</td>\n",
       "      <td>0034545</td>\n",
       "    </tr>\n",
       "    <tr>\n",
       "      <th>3</th>\n",
       "      <td>18</td>\n",
       "      <td>17</td>\n",
       "      <td>16</td>\n",
       "      <td>14</td>\n",
       "      <td>0034548</td>\n",
       "    </tr>\n",
       "    <tr>\n",
       "      <th>4</th>\n",
       "      <td>17</td>\n",
       "      <td>22</td>\n",
       "      <td>15</td>\n",
       "      <td>14</td>\n",
       "      <td>0034557</td>\n",
       "    </tr>\n",
       "  </tbody>\n",
       "</table>\n",
       "</div>"
      ],
      "text/plain": [
       "   nota1  nota2  nota3  nota4        ra\n",
       "0     14     21     24     12  00176143\n",
       "1     17     20      8      9   0034543\n",
       "2     19      1      4      7   0034545\n",
       "3     18     17     16     14   0034548\n",
       "4     17     22     15     14   0034557"
      ]
     },
     "execution_count": 202,
     "metadata": {},
     "output_type": "execute_result"
    }
   ],
   "source": [
    "desafio=pd.merge(df_avaliacao,df_alunos,how='left', left_on='fk_Aluno_id', right_on='id')\n",
    "\n",
    "desafio_selecionado = desafio[['nota1','nota2','nota3','nota4','ra']]\n",
    "\n",
    "desafio_selecionado.head()\n",
    "\n"
   ]
  },
  {
   "cell_type": "markdown",
   "metadata": {},
   "source": [
    "#### faça um join no pandas similar a como vc fez no sql\n",
    "mostrando o dataframe diario de bordo"
   ]
  },
  {
   "cell_type": "code",
   "execution_count": null,
   "metadata": {},
   "outputs": [],
   "source": [
    "len(df_diariobordo)"
   ]
  },
  {
   "cell_type": "code",
   "execution_count": null,
   "metadata": {},
   "outputs": [],
   "source": [
    "len(df_alunos)"
   ]
  }
 ],
 "metadata": {
  "kernelspec": {
   "display_name": "venv",
   "language": "python",
   "name": "python3"
  },
  "language_info": {
   "codemirror_mode": {
    "name": "ipython",
    "version": 3
   },
   "file_extension": ".py",
   "mimetype": "text/x-python",
   "name": "python",
   "nbconvert_exporter": "python",
   "pygments_lexer": "ipython3",
   "version": "3.12.4"
  }
 },
 "nbformat": 4,
 "nbformat_minor": 2
}
