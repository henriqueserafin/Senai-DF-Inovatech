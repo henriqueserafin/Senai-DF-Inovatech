{
 "cells": [
  {
   "cell_type": "code",
   "execution_count": null,
   "metadata": {},
   "outputs": [],
   "source": [
    "! pip install pandas\n",
    "! pip install SQLAlchemy\n",
    "! pip install pymysql\n"
   ]
  },
  {
   "cell_type": "code",
   "execution_count": null,
   "metadata": {},
   "outputs": [],
   "source": [
    "import pymysql\n",
    "import urllib.parse\n",
    "# definir as credenciais\n",
    "user = 'root'\n",
    "password = urllib.parse.quote_plus('senai@123')\n",
    "host  = 'localhost'\n",
    "database = 'projetodiario1'\n",
    "# criar uma url de conexão\n",
    "connection_string = f'mysql+pymysql://{user}:{password}@{host}/{database}'\n",
    "# criar a conexão com o create_engine()\n",
    "engine = create_engine(connection_string)\n",
    "# escrever uma consulta SQL\n",
    "query_alunos = \"SELECT * FROM aluno\"\n",
    "# criar o dataframe\n",
    "df_alunos = pd.read_sql(query_alunos,engine)\n",
    "# mostrar os cinco primeiros\n",
    "df_alunos.head()\n"
   ]
  },
  {
   "cell_type": "code",
   "execution_count": null,
   "metadata": {},
   "outputs": [],
   "source": [
    "import pymysql\n",
    "import urllib.parse\n",
    "import sqlalchemy as sa\n",
    "from sqlalchemy import create_engine\n",
    "import pandas as pd\n",
    "\n",
    "import pymysql\n",
    "import urllib.parse\n",
    "# definir as credenciais\n",
    "user = 'root'\n",
    "password = urllib.parse.quote_plus('senai@123')\n",
    "host  = 'localhost'\n",
    "database = 'schooltracker'\n",
    "# criar uma url de conexão\n",
    "connection_string = f'mysql+pymysql://{user}:{password}@{host}/{database}'\n",
    "# criar a conexão com o create_engine()\n",
    "engine = create_engine(connection_string)\n",
    "# escrever uma consulta SQL\n",
    "query_alunos = \"SELECT * FROM aluno\"\n",
    "# criar o dataframe\n",
    "df_alunos = pd.read_sql(query_alunos,engine)\n",
    "# mostrar os cinco primeiros\n",
    "df_alunos.head()\n",
    "\n"
   ]
  },
  {
   "cell_type": "code",
   "execution_count": 37,
   "metadata": {},
   "outputs": [
    {
     "data": {
      "text/html": [
       "<div>\n",
       "<style scoped>\n",
       "    .dataframe tbody tr th:only-of-type {\n",
       "        vertical-align: middle;\n",
       "    }\n",
       "\n",
       "    .dataframe tbody tr th {\n",
       "        vertical-align: top;\n",
       "    }\n",
       "\n",
       "    .dataframe thead th {\n",
       "        text-align: right;\n",
       "    }\n",
       "</style>\n",
       "<table border=\"1\" class=\"dataframe\">\n",
       "  <thead>\n",
       "    <tr style=\"text-align: right;\">\n",
       "      <th></th>\n",
       "      <th>id</th>\n",
       "      <th>ra</th>\n",
       "      <th>nome</th>\n",
       "      <th>tempoestudo</th>\n",
       "      <th>rendafamiliar</th>\n",
       "    </tr>\n",
       "  </thead>\n",
       "  <tbody>\n",
       "    <tr>\n",
       "      <th>0</th>\n",
       "      <td>1</td>\n",
       "      <td>0034541</td>\n",
       "      <td>None</td>\n",
       "      <td>0</td>\n",
       "      <td>NaN</td>\n",
       "    </tr>\n",
       "    <tr>\n",
       "      <th>1</th>\n",
       "      <td>2</td>\n",
       "      <td>0034542</td>\n",
       "      <td>None</td>\n",
       "      <td>0</td>\n",
       "      <td>NaN</td>\n",
       "    </tr>\n",
       "    <tr>\n",
       "      <th>2</th>\n",
       "      <td>3</td>\n",
       "      <td>0034543</td>\n",
       "      <td>None</td>\n",
       "      <td>0</td>\n",
       "      <td>NaN</td>\n",
       "    </tr>\n",
       "    <tr>\n",
       "      <th>3</th>\n",
       "      <td>4</td>\n",
       "      <td>0034544</td>\n",
       "      <td>None</td>\n",
       "      <td>0</td>\n",
       "      <td>NaN</td>\n",
       "    </tr>\n",
       "    <tr>\n",
       "      <th>4</th>\n",
       "      <td>5</td>\n",
       "      <td>0034545</td>\n",
       "      <td>None</td>\n",
       "      <td>0</td>\n",
       "      <td>NaN</td>\n",
       "    </tr>\n",
       "  </tbody>\n",
       "</table>\n",
       "</div>"
      ],
      "text/plain": [
       "   id       ra  nome  tempoestudo  rendafamiliar\n",
       "0   1  0034541  None            0            NaN\n",
       "1   2  0034542  None            0            NaN\n",
       "2   3  0034543  None            0            NaN\n",
       "3   4  0034544  None            0            NaN\n",
       "4   5  0034545  None            0            NaN"
      ]
     },
     "execution_count": 37,
     "metadata": {},
     "output_type": "execute_result"
    }
   ],
   "source": [
    "import pymysql\n",
    "import urllib.parse\n",
    "import sqlalchemy as sa\n",
    "import pandas as pd\n",
    "\n",
    "import pymysql\n",
    "import urllib.parse\n",
    "# definir as credenciais\n",
    "user = 'root'\n",
    "password = urllib.parse.quote_plus('senai@123')\n",
    "host  = 'localhost'\n",
    "database = 'schooltracker'\n",
    "# criar uma url de conexão\n",
    "connection_string = f'mysql+pymysql://{user}:{password}@{host}/{database}'\n",
    "# criar a conexão com o create_engine()\n",
    "engine = create_engine(connection_string)\n",
    "# escrever uma consulta SQL\n",
    "query_alunos = \"SELECT * FROM aluno\"\n",
    "# criar o dataframe\n",
    "df_alunos = pd.read_sql(query_alunos,engine)\n",
    "# mostrar os cinco primeiros\n",
    "df_alunos.head()\n",
    "\n"
   ]
  },
  {
   "cell_type": "markdown",
   "metadata": {},
   "source": [
    "## Qauis são as bibliotecas que o cientista de dados utiliza\n",
    "- Pandas: ciencia de dados\n",
    "- NumPy: matemátiva\n",
    "- Fundamentos de IA (Scikit-Learn): elaboração de modelos de ia\n",
    "\n",
    "## Como o cientista de dados organiza e manipula dados\n",
    "\n",
    "- Importar bibliotecas\n",
    "- Carregar dados\n",
    "- Explorar dados\n",
    "- Preparar dados\n",
    "- Modelar dados\n",
    "\n",
    "### Como o cientista de dados gera insights\n",
    "\n",
    "- Análise de dados\n",
    "- Exploração de dados\n",
    "- Visualização de dados\n",
    "- Interpretando dados\n",
    "- Comunicando insights\n",
    "\n",
    "### Como o cientista de dados cria modelos\n",
    "\n",
    "- Definindo o objetivo\n",
    "- Escolhendo a técnica\n",
    "- Treinando o modelo\n",
    "- Avaliando o modelo\n",
    "- Usando o modelo\n",
    "\n",
    "### Como o cientista de dados interpreta os resultados\n",
    "\n",
    "- Interpretando resultados\n",
    "- Comunicando resultados\n",
    "- Relacionando resultados\n",
    "- Atualizando insights\n",
    "\n"
   ]
  },
  {
   "cell_type": "code",
   "execution_count": 19,
   "metadata": {},
   "outputs": [],
   "source": [
    "df_alunos.to_csv('alunos.csv',index=False,)"
   ]
  },
  {
   "cell_type": "code",
   "execution_count": null,
   "metadata": {},
   "outputs": [],
   "source": [
    "print(df_alunos)"
   ]
  },
  {
   "cell_type": "code",
   "execution_count": 21,
   "metadata": {},
   "outputs": [],
   "source": [
    "df_alunos.to_json('alunos2.json',index=True,)"
   ]
  },
  {
   "cell_type": "code",
   "execution_count": 23,
   "metadata": {},
   "outputs": [
    {
     "name": "stdout",
     "output_type": "stream",
     "text": [
      "Collecting openpyxl\n",
      "  Downloading openpyxl-3.1.5-py2.py3-none-any.whl.metadata (2.5 kB)\n",
      "Collecting et-xmlfile (from openpyxl)\n",
      "  Downloading et_xmlfile-1.1.0-py3-none-any.whl.metadata (1.8 kB)\n",
      "Downloading openpyxl-3.1.5-py2.py3-none-any.whl (250 kB)\n",
      "Downloading et_xmlfile-1.1.0-py3-none-any.whl (4.7 kB)\n",
      "Installing collected packages: et-xmlfile, openpyxl\n",
      "Successfully installed et-xmlfile-1.1.0 openpyxl-3.1.5\n"
     ]
    }
   ],
   "source": [
    "! pip install openpyxl"
   ]
  },
  {
   "cell_type": "code",
   "execution_count": 24,
   "metadata": {},
   "outputs": [],
   "source": [
    "xlsx_filename='alunos3.xlsx'\n",
    "df_alunos.to_excel(xlsx_filename,index=False)"
   ]
  },
  {
   "cell_type": "code",
   "execution_count": 25,
   "metadata": {},
   "outputs": [
    {
     "data": {
      "text/plain": [
       "Index(['id', 'ra', 'nome', 'tempoestudo', 'rendafamiliar'], dtype='object')"
      ]
     },
     "execution_count": 25,
     "metadata": {},
     "output_type": "execute_result"
    }
   ],
   "source": [
    "df_alunos.columns"
   ]
  },
  {
   "cell_type": "code",
   "execution_count": 32,
   "metadata": {},
   "outputs": [
    {
     "data": {
      "text/html": [
       "<div>\n",
       "<style scoped>\n",
       "    .dataframe tbody tr th:only-of-type {\n",
       "        vertical-align: middle;\n",
       "    }\n",
       "\n",
       "    .dataframe tbody tr th {\n",
       "        vertical-align: top;\n",
       "    }\n",
       "\n",
       "    .dataframe thead th {\n",
       "        text-align: right;\n",
       "    }\n",
       "</style>\n",
       "<table border=\"1\" class=\"dataframe\">\n",
       "  <thead>\n",
       "    <tr style=\"text-align: right;\">\n",
       "      <th></th>\n",
       "      <th>tempoestudo</th>\n",
       "      <th>rendafamiliar</th>\n",
       "    </tr>\n",
       "  </thead>\n",
       "  <tbody>\n",
       "    <tr>\n",
       "      <th>0</th>\n",
       "      <td>0</td>\n",
       "      <td>NaN</td>\n",
       "    </tr>\n",
       "    <tr>\n",
       "      <th>1</th>\n",
       "      <td>0</td>\n",
       "      <td>NaN</td>\n",
       "    </tr>\n",
       "    <tr>\n",
       "      <th>2</th>\n",
       "      <td>0</td>\n",
       "      <td>NaN</td>\n",
       "    </tr>\n",
       "    <tr>\n",
       "      <th>3</th>\n",
       "      <td>0</td>\n",
       "      <td>NaN</td>\n",
       "    </tr>\n",
       "    <tr>\n",
       "      <th>4</th>\n",
       "      <td>0</td>\n",
       "      <td>NaN</td>\n",
       "    </tr>\n",
       "    <tr>\n",
       "      <th>...</th>\n",
       "      <td>...</td>\n",
       "      <td>...</td>\n",
       "    </tr>\n",
       "    <tr>\n",
       "      <th>96</th>\n",
       "      <td>8</td>\n",
       "      <td>3600.8</td>\n",
       "    </tr>\n",
       "    <tr>\n",
       "      <th>97</th>\n",
       "      <td>5</td>\n",
       "      <td>2500.9</td>\n",
       "    </tr>\n",
       "    <tr>\n",
       "      <th>98</th>\n",
       "      <td>4</td>\n",
       "      <td>2300.0</td>\n",
       "    </tr>\n",
       "    <tr>\n",
       "      <th>99</th>\n",
       "      <td>6</td>\n",
       "      <td>2900.1</td>\n",
       "    </tr>\n",
       "    <tr>\n",
       "      <th>100</th>\n",
       "      <td>7</td>\n",
       "      <td>3200.2</td>\n",
       "    </tr>\n",
       "  </tbody>\n",
       "</table>\n",
       "<p>101 rows × 2 columns</p>\n",
       "</div>"
      ],
      "text/plain": [
       "     tempoestudo  rendafamiliar\n",
       "0              0            NaN\n",
       "1              0            NaN\n",
       "2              0            NaN\n",
       "3              0            NaN\n",
       "4              0            NaN\n",
       "..           ...            ...\n",
       "96             8         3600.8\n",
       "97             5         2500.9\n",
       "98             4         2300.0\n",
       "99             6         2900.1\n",
       "100            7         3200.2\n",
       "\n",
       "[101 rows x 2 columns]"
      ]
     },
     "execution_count": 32,
     "metadata": {},
     "output_type": "execute_result"
    }
   ],
   "source": [
    "\n",
    "df_tempo_renda=df_tempo_renda=df_alunos[['tempoestudo','rendafamiliar']]\n",
    "df_tempo_renda[0:]"
   ]
  },
  {
   "cell_type": "code",
   "execution_count": 33,
   "metadata": {},
   "outputs": [
    {
     "name": "stdout",
     "output_type": "stream",
     "text": [
      "<class 'pandas.core.frame.DataFrame'>\n"
     ]
    }
   ],
   "source": [
    "# tipos\n",
    "print(type(df_tempo_renda))"
   ]
  },
  {
   "cell_type": "code",
   "execution_count": 41,
   "metadata": {},
   "outputs": [
    {
     "data": {
      "text/plain": [
       "pandas.core.series.Series"
      ]
     },
     "execution_count": 41,
     "metadata": {},
     "output_type": "execute_result"
    }
   ],
   "source": [
    "# exercicio: crie um recurso para mostrar apenas uma coluna, mostra qual o tipo desse recurso\n",
    "serie_tempo_renda=df_tempo_renda['rendafamiliar']\n",
    "type(serie_tempo_renda)\n"
   ]
  }
 ],
 "metadata": {
  "kernelspec": {
   "display_name": "venv",
   "language": "python",
   "name": "python3"
  },
  "language_info": {
   "codemirror_mode": {
    "name": "ipython",
    "version": 3
   },
   "file_extension": ".py",
   "mimetype": "text/x-python",
   "name": "python",
   "nbconvert_exporter": "python",
   "pygments_lexer": "ipython3",
   "version": "3.12.4"
  }
 },
 "nbformat": 4,
 "nbformat_minor": 2
}
