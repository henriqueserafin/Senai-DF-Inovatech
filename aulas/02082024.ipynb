{
 "cells": [
  {
   "cell_type": "code",
   "execution_count": null,
   "metadata": {},
   "outputs": [],
   "source": [
    "! pip install pandas\n",
    "! pip install SQLAlchemy\n",
    "! pip install pymysql\n"
   ]
  },
  {
   "cell_type": "code",
   "execution_count": null,
   "metadata": {},
   "outputs": [],
   "source": [
    "\n",
    "\n",
    "# definir credenciais\n",
    "\n",
    "username = 'root'\n",
    "password = 'senai@123'\n",
    "host = 'localhost'\n",
    "port = '3306'\n",
    "database = 'peojetofinal1'\n",
    "\n",
    "# criar uma url de conexão\n",
    "\n",
    "url = f'mysql+pymysql://{username}:{password}@{host}:{port}/{database}'\n",
    "print(url)\n",
    "\n",
    "# criar a conexão com o create_engine()\n",
    "\n",
    "engine = create_engine(url)\n",
    "\n",
    "# escrever uma consulta sql\n",
    "\n",
    "query_alunos=\"select * from aluno\"\n",
    "\n",
    "# Criar o datafreame\n",
    "\n",
    "df_alunos=pd.read_sql(query_alunos,engine)\n",
    "\n",
    "# mostrar os 5 primerios\n",
    "\n",
    "df_alunos.head()\n",
    "\n",
    "\n",
    "\n"
   ]
  },
  {
   "cell_type": "code",
   "execution_count": null,
   "metadata": {},
   "outputs": [],
   "source": [
    "import pymysql\n",
    "import urllib.parse\n",
    "import sqlalchemy as sa\n",
    "from sqlalchemy import create_engine\n",
    "import pandas as pd\n",
    "\n",
    "# definir credenciais\n",
    "username = 'root'\n",
    "password = 'senai@123'\n",
    "host = '127.0.0.1'\n",
    "port = '3306'\n",
    "database = 'projetofinal1'  # Corrigir o nome do banco de dados\n",
    "\n",
    "encoded_password = urllib.parse.quote_plus(password)\n",
    "\n",
    "# criar uma url de conexão\n",
    "url = f'mysql+pymysql://{username}:{encoded_password}@{host}:{port}/{database}'\n",
    "print(url)\n",
    "\n",
    "# criar a conexão com o create_engine()\n",
    "engine = create_engine(url)\n",
    "\n",
    "# escrever uma consulta sql\n",
    "query_alunos = \"select * from aluno\"\n",
    "\n",
    "# Criar o dataframe\n",
    "df_alunos = pd.read_sql(query_alunos, engine)\n",
    "\n",
    "# mostrar os 5 primeiros\n",
    "df_alunos.head()"
   ]
  },
  {
   "cell_type": "code",
   "execution_count": null,
   "metadata": {},
   "outputs": [],
   "source": []
  }
 ],
 "metadata": {
  "kernelspec": {
   "display_name": "venv",
   "language": "python",
   "name": "python3"
  },
  "language_info": {
   "codemirror_mode": {
    "name": "ipython",
    "version": 3
   },
   "file_extension": ".py",
   "mimetype": "text/x-python",
   "name": "python",
   "nbconvert_exporter": "python",
   "pygments_lexer": "ipython3",
   "version": "3.12.4"
  }
 },
 "nbformat": 4,
 "nbformat_minor": 2
}
