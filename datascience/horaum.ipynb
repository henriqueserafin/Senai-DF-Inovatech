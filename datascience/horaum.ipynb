{
 "cells": [
  {
   "cell_type": "markdown",
   "metadata": {},
   "source": [
    "# imobiliária Aluga Rápido"
   ]
  },
  {
   "cell_type": "markdown",
   "metadata": {},
   "source": [
    "### importação de bibliotecas e funções"
   ]
  },
  {
   "cell_type": "code",
   "execution_count": 3,
   "metadata": {},
   "outputs": [],
   "source": [
    "import pandas as pd;\n",
    "import numpy as np;\n",
    "from numpy import nan;\n",
    "from pandas import read_csv, to_numeric"
   ]
  },
  {
   "cell_type": "code",
   "execution_count": 6,
   "metadata": {},
   "outputs": [],
   "source": [
    "url=\"dataset/aluguel.csv\";\n",
    "# read_csv(url,sep=';')\n"
   ]
  },
  {
   "cell_type": "markdown",
   "metadata": {},
   "source": [
    "# Variável para guardar o dataset"
   ]
  },
  {
   "cell_type": "code",
   "execution_count": 8,
   "metadata": {},
   "outputs": [
    {
     "data": {
      "text/html": [
       "<div>\n",
       "<style scoped>\n",
       "    .dataframe tbody tr th:only-of-type {\n",
       "        vertical-align: middle;\n",
       "    }\n",
       "\n",
       "    .dataframe tbody tr th {\n",
       "        vertical-align: top;\n",
       "    }\n",
       "\n",
       "    .dataframe thead th {\n",
       "        text-align: right;\n",
       "    }\n",
       "</style>\n",
       "<table border=\"1\" class=\"dataframe\">\n",
       "  <thead>\n",
       "    <tr style=\"text-align: right;\">\n",
       "      <th></th>\n",
       "      <th>Tipo</th>\n",
       "      <th>Bairro</th>\n",
       "      <th>Quartos</th>\n",
       "      <th>Vagas</th>\n",
       "      <th>Suites</th>\n",
       "      <th>Area</th>\n",
       "      <th>Valor</th>\n",
       "      <th>Condominio</th>\n",
       "      <th>IPTU</th>\n",
       "    </tr>\n",
       "  </thead>\n",
       "  <tbody>\n",
       "    <tr>\n",
       "      <th>0</th>\n",
       "      <td>Quitinete</td>\n",
       "      <td>Copacabana</td>\n",
       "      <td>1</td>\n",
       "      <td>0</td>\n",
       "      <td>0</td>\n",
       "      <td>40</td>\n",
       "      <td>1700.0</td>\n",
       "      <td>500.0</td>\n",
       "      <td>60.0</td>\n",
       "    </tr>\n",
       "    <tr>\n",
       "      <th>1</th>\n",
       "      <td>Casa</td>\n",
       "      <td>Jardim Botânico</td>\n",
       "      <td>2</td>\n",
       "      <td>0</td>\n",
       "      <td>1</td>\n",
       "      <td>100</td>\n",
       "      <td>7000.0</td>\n",
       "      <td>NaN</td>\n",
       "      <td>NaN</td>\n",
       "    </tr>\n",
       "    <tr>\n",
       "      <th>2</th>\n",
       "      <td>Conjunto Comercial/Sala</td>\n",
       "      <td>Barra da Tijuca</td>\n",
       "      <td>0</td>\n",
       "      <td>4</td>\n",
       "      <td>0</td>\n",
       "      <td>150</td>\n",
       "      <td>5200.0</td>\n",
       "      <td>4020.0</td>\n",
       "      <td>1111.0</td>\n",
       "    </tr>\n",
       "    <tr>\n",
       "      <th>3</th>\n",
       "      <td>Apartamento</td>\n",
       "      <td>Centro</td>\n",
       "      <td>1</td>\n",
       "      <td>0</td>\n",
       "      <td>0</td>\n",
       "      <td>15</td>\n",
       "      <td>800.0</td>\n",
       "      <td>390.0</td>\n",
       "      <td>20.0</td>\n",
       "    </tr>\n",
       "    <tr>\n",
       "      <th>4</th>\n",
       "      <td>Apartamento</td>\n",
       "      <td>Higienópolis</td>\n",
       "      <td>1</td>\n",
       "      <td>0</td>\n",
       "      <td>0</td>\n",
       "      <td>48</td>\n",
       "      <td>800.0</td>\n",
       "      <td>230.0</td>\n",
       "      <td>NaN</td>\n",
       "    </tr>\n",
       "    <tr>\n",
       "      <th>...</th>\n",
       "      <td>...</td>\n",
       "      <td>...</td>\n",
       "      <td>...</td>\n",
       "      <td>...</td>\n",
       "      <td>...</td>\n",
       "      <td>...</td>\n",
       "      <td>...</td>\n",
       "      <td>...</td>\n",
       "      <td>...</td>\n",
       "    </tr>\n",
       "    <tr>\n",
       "      <th>32955</th>\n",
       "      <td>Quitinete</td>\n",
       "      <td>Centro</td>\n",
       "      <td>0</td>\n",
       "      <td>0</td>\n",
       "      <td>0</td>\n",
       "      <td>27</td>\n",
       "      <td>800.0</td>\n",
       "      <td>350.0</td>\n",
       "      <td>25.0</td>\n",
       "    </tr>\n",
       "    <tr>\n",
       "      <th>32956</th>\n",
       "      <td>Apartamento</td>\n",
       "      <td>Jacarepaguá</td>\n",
       "      <td>3</td>\n",
       "      <td>1</td>\n",
       "      <td>2</td>\n",
       "      <td>78</td>\n",
       "      <td>1800.0</td>\n",
       "      <td>800.0</td>\n",
       "      <td>40.0</td>\n",
       "    </tr>\n",
       "    <tr>\n",
       "      <th>32957</th>\n",
       "      <td>Apartamento</td>\n",
       "      <td>São Francisco Xavier</td>\n",
       "      <td>2</td>\n",
       "      <td>1</td>\n",
       "      <td>0</td>\n",
       "      <td>48</td>\n",
       "      <td>1400.0</td>\n",
       "      <td>509.0</td>\n",
       "      <td>37.0</td>\n",
       "    </tr>\n",
       "    <tr>\n",
       "      <th>32958</th>\n",
       "      <td>Apartamento</td>\n",
       "      <td>Leblon</td>\n",
       "      <td>2</td>\n",
       "      <td>0</td>\n",
       "      <td>0</td>\n",
       "      <td>70</td>\n",
       "      <td>3000.0</td>\n",
       "      <td>760.0</td>\n",
       "      <td>NaN</td>\n",
       "    </tr>\n",
       "    <tr>\n",
       "      <th>32959</th>\n",
       "      <td>Conjunto Comercial/Sala</td>\n",
       "      <td>Centro</td>\n",
       "      <td>0</td>\n",
       "      <td>0</td>\n",
       "      <td>0</td>\n",
       "      <td>250</td>\n",
       "      <td>6500.0</td>\n",
       "      <td>4206.0</td>\n",
       "      <td>1109.0</td>\n",
       "    </tr>\n",
       "  </tbody>\n",
       "</table>\n",
       "<p>32960 rows × 9 columns</p>\n",
       "</div>"
      ],
      "text/plain": [
       "                          Tipo                Bairro  Quartos  Vagas  Suites  \\\n",
       "0                    Quitinete            Copacabana        1      0       0   \n",
       "1                         Casa       Jardim Botânico        2      0       1   \n",
       "2      Conjunto Comercial/Sala       Barra da Tijuca        0      4       0   \n",
       "3                  Apartamento                Centro        1      0       0   \n",
       "4                  Apartamento          Higienópolis        1      0       0   \n",
       "...                        ...                   ...      ...    ...     ...   \n",
       "32955                Quitinete                Centro        0      0       0   \n",
       "32956              Apartamento           Jacarepaguá        3      1       2   \n",
       "32957              Apartamento  São Francisco Xavier        2      1       0   \n",
       "32958              Apartamento                Leblon        2      0       0   \n",
       "32959  Conjunto Comercial/Sala                Centro        0      0       0   \n",
       "\n",
       "       Area   Valor  Condominio    IPTU  \n",
       "0        40  1700.0       500.0    60.0  \n",
       "1       100  7000.0         NaN     NaN  \n",
       "2       150  5200.0      4020.0  1111.0  \n",
       "3        15   800.0       390.0    20.0  \n",
       "4        48   800.0       230.0     NaN  \n",
       "...     ...     ...         ...     ...  \n",
       "32955    27   800.0       350.0    25.0  \n",
       "32956    78  1800.0       800.0    40.0  \n",
       "32957    48  1400.0       509.0    37.0  \n",
       "32958    70  3000.0       760.0     NaN  \n",
       "32959   250  6500.0      4206.0  1109.0  \n",
       "\n",
       "[32960 rows x 9 columns]"
      ]
     },
     "execution_count": 8,
     "metadata": {},
     "output_type": "execute_result"
    }
   ],
   "source": [
    "dados = read_csv(url,sep=';');\n",
    "dados\n"
   ]
  },
  {
   "cell_type": "code",
   "execution_count": 5,
   "metadata": {},
   "outputs": [
    {
     "name": "stdout",
     "output_type": "stream",
     "text": [
      "<class 'str'>\n",
      "<class 'pandas.core.frame.DataFrame'>\n"
     ]
    }
   ],
   "source": [
    "print(type(url));\n",
    "print(type(dados));"
   ]
  },
  {
   "cell_type": "markdown",
   "metadata": {},
   "source": [
    "# Substituindo NaN (not a Number) com 0\n",
    "## Função head para apresentar as 20 primeiras linhas e tails para mostrar as 10 últimas"
   ]
  },
  {
   "cell_type": "code",
   "execution_count": null,
   "metadata": {},
   "outputs": [],
   "source": [
    "dados = dados.replace(nan, 0);\n"
   ]
  },
  {
   "cell_type": "code",
   "execution_count": null,
   "metadata": {},
   "outputs": [],
   "source": [
    "dados.head(20)"
   ]
  },
  {
   "cell_type": "code",
   "execution_count": null,
   "metadata": {},
   "outputs": [],
   "source": [
    "\n",
    "dados.tail(10)\n"
   ]
  },
  {
   "cell_type": "code",
   "execution_count": null,
   "metadata": {},
   "outputs": [],
   "source": [
    "print(type(dados));\n",
    "type(dados)"
   ]
  },
  {
   "cell_type": "code",
   "execution_count": null,
   "metadata": {},
   "outputs": [],
   "source": [
    "dados.shape"
   ]
  },
  {
   "cell_type": "code",
   "execution_count": 1,
   "metadata": {},
   "outputs": [
    {
     "ename": "NameError",
     "evalue": "name 'dados' is not defined",
     "output_type": "error",
     "traceback": [
      "\u001b[1;31m---------------------------------------------------------------------------\u001b[0m",
      "\u001b[1;31mNameError\u001b[0m                                 Traceback (most recent call last)",
      "Cell \u001b[1;32mIn[1], line 1\u001b[0m\n\u001b[1;32m----> 1\u001b[0m \u001b[43mdados\u001b[49m\u001b[38;5;241m.\u001b[39mcolumns\n",
      "\u001b[1;31mNameError\u001b[0m: name 'dados' is not defined"
     ]
    }
   ],
   "source": [
    "dados.columns"
   ]
  },
  {
   "cell_type": "markdown",
   "metadata": {},
   "source": [
    "# explorar as diferentes colunas existentes"
   ]
  },
  {
   "cell_type": "code",
   "execution_count": 22,
   "metadata": {},
   "outputs": [
    {
     "name": "stdout",
     "output_type": "stream",
     "text": [
      "<class 'pandas.core.frame.DataFrame'>\n",
      "RangeIndex: 32960 entries, 0 to 32959\n",
      "Data columns (total 9 columns):\n",
      " #   Column      Non-Null Count  Dtype  \n",
      "---  ------      --------------  -----  \n",
      " 0   Tipo        32960 non-null  object \n",
      " 1   Bairro      32960 non-null  object \n",
      " 2   Quartos     32960 non-null  int64  \n",
      " 3   Vagas       32960 non-null  int64  \n",
      " 4   Suites      32960 non-null  int64  \n",
      " 5   Area        32960 non-null  int64  \n",
      " 6   Valor       32960 non-null  float64\n",
      " 7   Condominio  32960 non-null  float64\n",
      " 8   IPTU        32960 non-null  float64\n",
      "dtypes: float64(3), int64(4), object(2)\n",
      "memory usage: 2.3+ MB\n"
     ]
    }
   ],
   "source": [
    "dados.info()"
   ]
  },
  {
   "cell_type": "code",
   "execution_count": 23,
   "metadata": {},
   "outputs": [
    {
     "data": {
      "text/plain": [
       "0                      Quitinete\n",
       "1                           Casa\n",
       "2        Conjunto Comercial/Sala\n",
       "3                    Apartamento\n",
       "4                    Apartamento\n",
       "                  ...           \n",
       "32955                  Quitinete\n",
       "32956                Apartamento\n",
       "32957                Apartamento\n",
       "32958                Apartamento\n",
       "32959    Conjunto Comercial/Sala\n",
       "Name: Tipo, Length: 32960, dtype: object"
      ]
     },
     "execution_count": 23,
     "metadata": {},
     "output_type": "execute_result"
    }
   ],
   "source": [
    "dados['Tipo']"
   ]
  },
  {
   "cell_type": "markdown",
   "metadata": {},
   "source": [
    "filtrar 2 colunas"
   ]
  },
  {
   "cell_type": "code",
   "execution_count": 24,
   "metadata": {},
   "outputs": [
    {
     "data": {
      "text/html": [
       "<div>\n",
       "<style scoped>\n",
       "    .dataframe tbody tr th:only-of-type {\n",
       "        vertical-align: middle;\n",
       "    }\n",
       "\n",
       "    .dataframe tbody tr th {\n",
       "        vertical-align: top;\n",
       "    }\n",
       "\n",
       "    .dataframe thead th {\n",
       "        text-align: right;\n",
       "    }\n",
       "</style>\n",
       "<table border=\"1\" class=\"dataframe\">\n",
       "  <thead>\n",
       "    <tr style=\"text-align: right;\">\n",
       "      <th></th>\n",
       "      <th>Quartos</th>\n",
       "      <th>Valor</th>\n",
       "    </tr>\n",
       "  </thead>\n",
       "  <tbody>\n",
       "    <tr>\n",
       "      <th>0</th>\n",
       "      <td>1</td>\n",
       "      <td>1700.0</td>\n",
       "    </tr>\n",
       "    <tr>\n",
       "      <th>1</th>\n",
       "      <td>2</td>\n",
       "      <td>7000.0</td>\n",
       "    </tr>\n",
       "    <tr>\n",
       "      <th>2</th>\n",
       "      <td>0</td>\n",
       "      <td>5200.0</td>\n",
       "    </tr>\n",
       "    <tr>\n",
       "      <th>3</th>\n",
       "      <td>1</td>\n",
       "      <td>800.0</td>\n",
       "    </tr>\n",
       "    <tr>\n",
       "      <th>4</th>\n",
       "      <td>1</td>\n",
       "      <td>800.0</td>\n",
       "    </tr>\n",
       "    <tr>\n",
       "      <th>...</th>\n",
       "      <td>...</td>\n",
       "      <td>...</td>\n",
       "    </tr>\n",
       "    <tr>\n",
       "      <th>32955</th>\n",
       "      <td>0</td>\n",
       "      <td>800.0</td>\n",
       "    </tr>\n",
       "    <tr>\n",
       "      <th>32956</th>\n",
       "      <td>3</td>\n",
       "      <td>1800.0</td>\n",
       "    </tr>\n",
       "    <tr>\n",
       "      <th>32957</th>\n",
       "      <td>2</td>\n",
       "      <td>1400.0</td>\n",
       "    </tr>\n",
       "    <tr>\n",
       "      <th>32958</th>\n",
       "      <td>2</td>\n",
       "      <td>3000.0</td>\n",
       "    </tr>\n",
       "    <tr>\n",
       "      <th>32959</th>\n",
       "      <td>0</td>\n",
       "      <td>6500.0</td>\n",
       "    </tr>\n",
       "  </tbody>\n",
       "</table>\n",
       "<p>32960 rows × 2 columns</p>\n",
       "</div>"
      ],
      "text/plain": [
       "       Quartos   Valor\n",
       "0            1  1700.0\n",
       "1            2  7000.0\n",
       "2            0  5200.0\n",
       "3            1   800.0\n",
       "4            1   800.0\n",
       "...        ...     ...\n",
       "32955        0   800.0\n",
       "32956        3  1800.0\n",
       "32957        2  1400.0\n",
       "32958        2  3000.0\n",
       "32959        0  6500.0\n",
       "\n",
       "[32960 rows x 2 columns]"
      ]
     },
     "execution_count": 24,
     "metadata": {},
     "output_type": "execute_result"
    }
   ],
   "source": [
    "dados[['Quartos','Valor']]"
   ]
  },
  {
   "cell_type": "code",
   "execution_count": null,
   "metadata": {},
   "outputs": [],
   "source": []
  },
  {
   "cell_type": "markdown",
   "metadata": {},
   "source": [
    "ferramentas respeitaveis excel,python,java,mysql-workbench"
   ]
  },
  {
   "cell_type": "code",
   "execution_count": null,
   "metadata": {},
   "outputs": [],
   "source": [
    "#codigo que estava fazendo solo\n",
    "\n",
    "import pandas as pd\n",
    "import numpy as np\n",
    "from numpy import nan\n",
    "from pandas import read_csv, to_numeric\n",
    "\n",
    "\n",
    "\n",
    "dataset = read_csv(\"dataset/aluguel.csv\", delimiter=';')\n",
    "dataset = dataset.replace(nan, 0)\n",
    "\n",
    "# dataset['Quartos']=to_numeric(dataset['Quartos'])\n",
    "# dataset['Vagas']=to_numeric(dataset['quartos'])\n",
    "\n",
    "# print(dataset)\n",
    "\n",
    "url = \"C:/Users/ead/Documents/.henrique/Senai-dataset-Inovatech/datascience/dataset/aluguel.csv\"\n",
    "read_csv(url,sep=';')"
   ]
  },
  {
   "cell_type": "markdown",
   "metadata": {},
   "source": []
  }
 ],
 "metadata": {
  "kernelspec": {
   "display_name": "Python 3 (ipykernel)",
   "language": "python",
   "name": "python3"
  },
  "language_info": {
   "codemirror_mode": {
    "name": "ipython",
    "version": 3
   },
   "file_extension": ".py",
   "mimetype": "text/x-python",
   "name": "python",
   "nbconvert_exporter": "python",
   "pygments_lexer": "ipython3",
   "version": "3.12.4"
  }
 },
 "nbformat": 4,
 "nbformat_minor": 4
}
