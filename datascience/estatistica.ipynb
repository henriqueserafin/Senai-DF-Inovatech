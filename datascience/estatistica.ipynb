{
 "cells": [
  {
   "cell_type": "markdown",
   "metadata": {},
   "source": [
    "# Demonstração dem python dos seguintes itens\n",
    "- Média\n",
    "- Mediana\n",
    "- Moda\n",
    "- Quartis\n",
    "- Desvio padrão"
   ]
  },
  {
   "cell_type": "markdown",
   "metadata": {},
   "source": [
    " ### Primeiro importamos as nossa biblioteca, no caso o Numpy e o scipy"
   ]
  },
  {
   "cell_type": "code",
   "execution_count": 19,
   "metadata": {},
   "outputs": [],
   "source": [
    "import numpy as np\n",
    "import scipy.stats as sp"
   ]
  },
  {
   "cell_type": "markdown",
   "metadata": {},
   "source": [
    "### Agora vamos criar nossa lista usando uma matriz."
   ]
  },
  {
   "cell_type": "code",
   "execution_count": 20,
   "metadata": {},
   "outputs": [],
   "source": [
    "valores = np.array([2,6,6,9,12,4,1,7,3,2,4,2,7,45])\n"
   ]
  },
  {
   "cell_type": "markdown",
   "metadata": {},
   "source": [
    "### Agora vamos tirar a média (a soma de todos os números divido pela quantidade de números), nesse caso vamos usar a função mean do numpy."
   ]
  },
  {
   "cell_type": "code",
   "execution_count": 21,
   "metadata": {},
   "outputs": [
    {
     "name": "stdout",
     "output_type": "stream",
     "text": [
      "7.857142857142857\n"
     ]
    }
   ],
   "source": [
    "# média\n",
    "media = np.mean(valores)\n",
    "print(media)\n"
   ]
  },
  {
   "cell_type": "markdown",
   "metadata": {},
   "source": [
    "### Agora vamos descobrir a mediana, que é deixar todos os itens em ordem, e pegar ou o do meio ou a média dos dois do meio, se a quantidade de itens for par."
   ]
  },
  {
   "cell_type": "code",
   "execution_count": 22,
   "metadata": {},
   "outputs": [
    {
     "name": "stdout",
     "output_type": "stream",
     "text": [
      "5.0\n"
     ]
    }
   ],
   "source": [
    "# mediana\n",
    "mediana = np.median(valores)\n",
    "print(mediana)\n"
   ]
  },
  {
   "cell_type": "markdown",
   "metadata": {},
   "source": [
    "### Agora vamos descobrir a moda, que é o termo que mais se repete. Esta é a unica que precisamos usar a biblioteca do scipy. O primeiro resultado é o número modal e o segundo a contagem de vezes que ele aparece, no caso o 2 aparece 3 vezes"
   ]
  },
  {
   "cell_type": "code",
   "execution_count": 23,
   "metadata": {},
   "outputs": [
    {
     "name": "stdout",
     "output_type": "stream",
     "text": [
      "ModeResult(mode=np.int64(2), count=np.int64(3))\n"
     ]
    }
   ],
   "source": [
    "moda = sp.mode(valores)\n",
    "print(moda)"
   ]
  },
  {
   "cell_type": "markdown",
   "metadata": {},
   "source": [
    "### Agora vamos descobrir os quartis. é um jeito de ver quantos valores do noso dataset são menores que certo nível, por exemplo, o quartis de 0.75 (ou 75%) vai nos mostrar o menor, inteiro ou não valor que é maior que 75% do valores do dataset (note que o quartil de 50 é a nossa mediana)"
   ]
  },
  {
   "cell_type": "code",
   "execution_count": 27,
   "metadata": {},
   "outputs": [
    {
     "name": "stdout",
     "output_type": "stream",
     "text": [
      "2.25\n",
      "5.0\n",
      "7.0\n"
     ]
    }
   ],
   "source": [
    "q_25 = np.quantile(valores, 0.25)\n",
    "q_50 = np.quantile(valores, 0.50)\n",
    "q_75 = np.quantile(valores, 0.75)\n",
    "print(q_25)\n",
    "print(q_50)\n",
    "print(q_75)\n"
   ]
  },
  {
   "cell_type": "markdown",
   "metadata": {},
   "source": [
    "### Agora vamos descobir o desvio padrão o desvio padrão é uma forma de indentificar a variabilidade de dados, quanto mais perto do valor da média menos variavel o conjunto de dados é, e quanto mais distante da média, mais váriavel é nosso conjunto de dados"
   ]
  },
  {
   "cell_type": "code",
   "execution_count": 28,
   "metadata": {},
   "outputs": [
    {
     "data": {
      "text/plain": [
       "np.float64(10.722853717025833)"
      ]
     },
     "execution_count": 28,
     "metadata": {},
     "output_type": "execute_result"
    }
   ],
   "source": [
    "# desvio padrão\n",
    "desvio = np.std(valores)\n",
    "desvio"
   ]
  }
 ],
 "metadata": {
  "kernelspec": {
   "display_name": "venv",
   "language": "python",
   "name": "python3"
  },
  "language_info": {
   "codemirror_mode": {
    "name": "ipython",
    "version": 3
   },
   "file_extension": ".py",
   "mimetype": "text/x-python",
   "name": "python",
   "nbconvert_exporter": "python",
   "pygments_lexer": "ipython3",
   "version": "3.12.4"
  }
 },
 "nbformat": 4,
 "nbformat_minor": 2
}
