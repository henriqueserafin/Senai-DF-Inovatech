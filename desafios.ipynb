{
 "cells": [
  {
   "cell_type": "markdown",
   "metadata": {},
   "source": [
    "## dia 02/07\n",
    "3 desafios"
   ]
  },
  {
   "cell_type": "code",
   "execution_count": null,
   "metadata": {},
   "outputs": [],
   "source": [
    "#desafio 1\n",
    "a1 = 2\n",
    "a2 = 2\n",
    "\n",
    "a3=a1+a2\n",
    "\n",
    "print(f\"texto concatenado com a soma {a3}\")\n",
    "\n",
    "\n"
   ]
  },
  {
   "cell_type": "code",
   "execution_count": null,
   "metadata": {},
   "outputs": [],
   "source": [
    "# desafio 2\n",
    "\n",
    "n1=int(input(\"coloque o primeiro número: \"))\n",
    "n2=int(input(\"coloque o segundo número: \"))\n",
    "\n",
    "soma=n1+n2\n",
    "multi=n1*n2\n",
    "divi=n1/n2\n",
    "sub=n1-n2\n",
    "\n",
    "print(f\"A soma é igual a {soma}\\n a multiplicação é {multi}\\n a divisão é {divi}\\n e a subtração é {sub}\\n\")\n",
    "\n",
    "\n"
   ]
  },
  {
   "cell_type": "code",
   "execution_count": null,
   "metadata": {},
   "outputs": [],
   "source": [
    "#desafio 3\n",
    "\n",
    "nome=str(input(\"nome: \"))\n",
    "idade=int(input(\"idade: \"))\n",
    "\n",
    "print(f\"seu nome é {nome}, sua idade é {idade}\")\n",
    "\n",
    "n1=int(input(\"coloque o primeiro número: \"))\n",
    "n2=int(input(\"coloque o segundo número: \"))\n",
    "r=n1+n2\n",
    "\n",
    "print(f\"o usuário {nome} fez a soma de {n1} e {n2} e obteve o resultado de {r}\")"
   ]
  },
  {
   "cell_type": "markdown",
   "metadata": {},
   "source": [
    "# dia 03/07\n",
    "\n",
    "1 desafio"
   ]
  },
  {
   "cell_type": "code",
   "execution_count": 2,
   "metadata": {},
   "outputs": [
    {
     "name": "stdout",
     "output_type": "stream",
     "text": [
      "o aluno Henrique obteve a média 4.8\n"
     ]
    }
   ],
   "source": [
    "nome = input('digite o nome')\n",
    "\n",
    "mat=float(input(\"coloque a nota de matemática: \"))\n",
    "port=float(input(\"coloque a nota de portguês: \"))\n",
    "geo=float(input(\"coloque a nota de geografia: \"))\n",
    "hist=float(input(\"coloque a nota de história: \"))\n",
    "fis=float(input(\"coloque a nota de física: \"))\n",
    "\n",
    "media=(mat+port+geo+hist+fis)/5\n",
    "\n",
    "print(f\"o aluno {nome} obteve a média {media}\")"
   ]
  }
 ],
 "metadata": {
  "kernelspec": {
   "display_name": "Python 3 (ipykernel)",
   "language": "python",
   "name": "python3"
  },
  "language_info": {
   "codemirror_mode": {
    "name": "ipython",
    "version": 3
   },
   "file_extension": ".py",
   "mimetype": "text/x-python",
   "name": "python",
   "nbconvert_exporter": "python",
   "pygments_lexer": "ipython3",
   "version": "3.12.4"
  }
 },
 "nbformat": 4,
 "nbformat_minor": 4
}
