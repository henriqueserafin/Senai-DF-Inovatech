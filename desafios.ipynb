{
 "cells": [
  {
   "cell_type": "markdown",
   "metadata": {},
   "source": [
    "## dia 02/07\n",
    "3 desafios"
   ]
  },
  {
   "cell_type": "code",
   "execution_count": null,
   "metadata": {},
   "outputs": [],
   "source": [
    "#desafio 1\n",
    "a1 = 2\n",
    "a2 = 2\n",
    "\n",
    "a3=a1+a2\n",
    "\n",
    "print(f\"texto concatenado com a soma {a3}\")\n",
    "\n",
    "\n"
   ]
  },
  {
   "cell_type": "code",
   "execution_count": null,
   "metadata": {},
   "outputs": [],
   "source": [
    "# desafio 2\n",
    "\n",
    "n1=int(input(\"coloque o primeiro número: \"))\n",
    "n2=int(input(\"coloque o segundo número: \"))\n",
    "\n",
    "soma=n1+n2\n",
    "multi=n1*n2\n",
    "divi=n1/n2\n",
    "sub=n1-n2\n",
    "\n",
    "print(f\"A soma é igual a {soma}\\n a multiplicação é {multi}\\n a divisão é {divi}\\n e a subtração é {sub}\\n\")\n",
    "\n",
    "\n"
   ]
  },
  {
   "cell_type": "code",
   "execution_count": null,
   "metadata": {},
   "outputs": [],
   "source": [
    "#desafio 3\n",
    "\n",
    "nome=str(input(\"nome: \"))\n",
    "idade=int(input(\"idade: \"))\n",
    "\n",
    "print(f\"seu nome é {nome}, sua idade é {idade}\")\n",
    "\n",
    "n1=int(input(\"coloque o primeiro número: \"))\n",
    "n2=int(input(\"coloque o segundo número: \"))\n",
    "r=n1+n2\n",
    "\n",
    "print(f\"o usuário {nome} fez a soma de {n1} e {n2} e obteve o resultado de {r}\")"
   ]
  },
  {
   "cell_type": "markdown",
   "metadata": {},
   "source": [
    "# dia 03/07\n",
    "\n",
    "1 desafio"
   ]
  },
  {
   "cell_type": "code",
   "execution_count": null,
   "metadata": {},
   "outputs": [],
   "source": [
    "nome = input('digite o nome')\n",
    "# nome = \"Henrique\"\n",
    "mat=float(input(\"coloque a nota de matemática: \"))\n",
    "port=float(input(\"coloque a nota de portguês: \"))\n",
    "geo=float(input(\"coloque a nota de geografia: \"))\n",
    "hist=float(input(\"coloque a nota de história: \"))\n",
    "fis=float(input(\"coloque a nota de física: \"))\n",
    "\n",
    "# mat=5\n",
    "# port=8\n",
    "# geo=8\n",
    "# hist=8\n",
    "# fis=8\n",
    "\n",
    "# media=(mat+port+geo+hist+fis)/5\n",
    "\n",
    "print(f\"o aluno {nome} obteve a média {media:.2f}\")\n",
    "\n",
    "if media>5:\n",
    "    print(\"aprovado! Aproveite as férias\")\n",
    "else:\n",
    "    print(\"reprovado :(\")\n",
    "\n",
    "print(f\"notas\\n Matemática: {mat}\\n{14*'-'}\\nPortuguês: {port}\\n{14*'-'}\\nGeografia: {geo}\\n{14*'-'}\\nHistória: {hist}\\n{14*'-'}\\nFísica:{fis}\\n{14*'-'}\\nMédia: {media:.2f}\")\n",
    "\n",
    "\n"
   ]
  },
  {
   "cell_type": "markdown",
   "metadata": {},
   "source": [
    "# Dia 04/07"
   ]
  },
  {
   "cell_type": "code",
   "execution_count": null,
   "metadata": {},
   "outputs": [],
   "source": [
    "#desafio 1\n",
    "num=int(input(\"digite o número\"))\n",
    "\n",
    "if num % 2 == 0:\n",
    "    print(f\"o número {num} é par\")\n",
    "else:\n",
    "    print(f\"o número {num} é impar\")"
   ]
  },
  {
   "cell_type": "code",
   "execution_count": 15,
   "metadata": {},
   "outputs": [
    {
     "name": "stdout",
     "output_type": "stream",
     "text": [
      "peso excedente\n"
     ]
    }
   ],
   "source": [
    "#desafio 2\n",
    "max=200\n",
    "usu=float(input(\"digite o seu peso\"))\n",
    "carga=float(input(\"digite o peso da carga\"))\n",
    "PTotal= usu+carga\n",
    "\n",
    "if PTotal>max:\n",
    "    print(\"peso excedente\")\n",
    "else:\n",
    "    print(\"autorizado\")"
   ]
  },
  {
   "cell_type": "code",
   "execution_count": 21,
   "metadata": {},
   "outputs": [
    {
     "name": "stdout",
     "output_type": "stream",
     "text": [
      "o aluno HENRIQUE está de recuperação com a média de 5.75\n"
     ]
    }
   ],
   "source": [
    "#desafio 3\n",
    "nome=str(input(\"digite seu nome\").upper())\n",
    "idade=int(input(\"digite sua idade\"))\n",
    "cpf=str(input(\"digite seu CPF\"))\n",
    "n1=float(input(\"nota do primeiro bimestre\"))\n",
    "n2=float(input(\"nota do segundo bimestre\"))\n",
    "n3=float(input(\"nota do terceiro bimestre\"))\n",
    "n4=float(input(\"nota do quarto bimestre\"))\n",
    "media=(n1+n2+n3+n4)/4\n",
    "\n",
    "\n",
    "if idade<18:\n",
    "    print(\"somente para os responsáveis\")\n",
    "else:\n",
    "    if media>=7:\n",
    "        print(f\"o aluno {nome} foi aprovado com a média de {media:.2f}\")\n",
    "    elif media>=5:\n",
    "        print(f\"o aluno {nome} está de recuperação com a média de {media:.2f}\")\n",
    "    else:\n",
    "        print(f\"o aluno {nome} está reprovado com a média de {media:.2f}\")"
   ]
  }
 ],
 "metadata": {
  "kernelspec": {
   "display_name": "Python 3 (ipykernel)",
   "language": "python",
   "name": "python3"
  },
  "language_info": {
   "codemirror_mode": {
    "name": "ipython",
    "version": 3
   },
   "file_extension": ".py",
   "mimetype": "text/x-python",
   "name": "python",
   "nbconvert_exporter": "python",
   "pygments_lexer": "ipython3",
   "version": "3.12.4"
  }
 },
 "nbformat": 4,
 "nbformat_minor": 4
}
