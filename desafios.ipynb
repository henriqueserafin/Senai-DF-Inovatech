{
 "cells": [
  {
   "cell_type": "markdown",
   "metadata": {},
   "source": [
    "## dia 02/07\n",
    "3 desafios"
   ]
  },
  {
   "cell_type": "code",
   "execution_count": 4,
   "metadata": {},
   "outputs": [
    {
     "name": "stdout",
     "output_type": "stream",
     "text": [
      "texto concatenado com a soma 4\n"
     ]
    }
   ],
   "source": [
    "#desafio 1\n",
    "a1 = 2\n",
    "a2 = 2\n",
    "\n",
    "a3=a1+a2\n",
    "\n",
    "print(f\"texto concatenado com a soma {a3}\")\n",
    "\n",
    "\n"
   ]
  },
  {
   "cell_type": "code",
   "execution_count": 3,
   "metadata": {},
   "outputs": [
    {
     "name": "stdout",
     "output_type": "stream",
     "text": [
      "A soma é igual a 9\n",
      " a multiplicação é 20\n",
      " a divisão é 0.8\n",
      " e a subtração é -1\n",
      "\n"
     ]
    }
   ],
   "source": [
    "# desafio 2\n",
    "\n",
    "n1=int(input(\"coloque o primeiro número: \"))\n",
    "n2=int(input(\"coloque o segundo número: \"))\n",
    "\n",
    "soma=n1+n2\n",
    "multi=n1*n2\n",
    "divi=n1/n2\n",
    "sub=n1-n2\n",
    "\n",
    "print(f\"A soma é igual a {soma}\\n a multiplicação é {multi}\\n a divisão é {divi}\\n e a subtração é {sub}\\n\")\n",
    "\n",
    "\n"
   ]
  },
  {
   "cell_type": "code",
   "execution_count": 2,
   "metadata": {},
   "outputs": [
    {
     "name": "stdout",
     "output_type": "stream",
     "text": [
      "seu nome é Henrique, sua idade é 22\n",
      "o usuário Henrique fez a soma de 8 e 4 e obteve o resultado de 12\n"
     ]
    }
   ],
   "source": [
    "#desafio 3\n",
    "\n",
    "nome=str(input(\"nome: \"))\n",
    "idade=int(input(\"idade: \"))\n",
    "\n",
    "print(f\"seu nome é {nome}, sua idade é {idade}\")\n",
    "\n",
    "n1=int(input(\"coloque o primeiro número: \"))\n",
    "n2=int(input(\"coloque o segundo número: \"))\n",
    "r=n1+n2\n",
    "\n",
    "print(f\"o usuário {nome} fez a soma de {n1} e {n2} e obteve o resultado de {r}\")"
   ]
  }
 ],
 "metadata": {
  "kernelspec": {
   "display_name": "venv",
   "language": "python",
   "name": "python3"
  },
  "language_info": {
   "codemirror_mode": {
    "name": "ipython",
    "version": 3
   },
   "file_extension": ".py",
   "mimetype": "text/x-python",
   "name": "python",
   "nbconvert_exporter": "python",
   "pygments_lexer": "ipython3",
   "version": "3.12.3"
  }
 },
 "nbformat": 4,
 "nbformat_minor": 2
}
