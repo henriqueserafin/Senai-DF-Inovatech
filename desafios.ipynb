{
 "cells": [
  {
   "cell_type": "markdown",
   "metadata": {},
   "source": [
    "## dia 02/07\n",
    "3 desafios"
   ]
  },
  {
   "cell_type": "code",
   "execution_count": null,
   "metadata": {},
   "outputs": [],
   "source": [
    "#desafio 1\n",
    "a1 = 2\n",
    "a2 = 2\n",
    "\n",
    "a3=a1+a2\n",
    "\n",
    "print(f\"texto concatenado com a soma {a3}\")\n",
    "\n",
    "\n"
   ]
  },
  {
   "cell_type": "code",
   "execution_count": null,
   "metadata": {},
   "outputs": [],
   "source": [
    "# desafio 2\n",
    "\n",
    "n1=int(input(\"coloque o primeiro número: \"))\n",
    "n2=int(input(\"coloque o segundo número: \"))\n",
    "\n",
    "soma=n1+n2\n",
    "multi=n1*n2\n",
    "divi=n1/n2\n",
    "sub=n1-n2\n",
    "\n",
    "print(f\"A soma é igual a {soma}\\n a multiplicação é {multi}\\n a divisão é {divi}\\n e a subtração é {sub}\\n\")\n",
    "\n",
    "\n"
   ]
  },
  {
   "cell_type": "code",
   "execution_count": null,
   "metadata": {},
   "outputs": [],
   "source": [
    "#desafio 3\n",
    "\n",
    "nome=str(input(\"nome: \"))\n",
    "idade=int(input(\"idade: \"))\n",
    "\n",
    "print(f\"seu nome é {nome}, sua idade é {idade}\")\n",
    "\n",
    "n1=int(input(\"coloque o primeiro número: \"))\n",
    "n2=int(input(\"coloque o segundo número: \"))\n",
    "r=n1+n2\n",
    "\n",
    "print(f\"o usuário {nome} fez a soma de {n1} e {n2} e obteve o resultado de {r}\")"
   ]
  },
  {
   "cell_type": "markdown",
   "metadata": {},
   "source": [
    "# dia 03/07\n",
    "\n",
    "1 desafio"
   ]
  },
  {
   "cell_type": "code",
   "execution_count": null,
   "metadata": {},
   "outputs": [],
   "source": [
    "nome = input('digite o nome')\n",
    "# nome = \"Henrique\"\n",
    "mat=float(input(\"coloque a nota de matemática: \"))\n",
    "port=float(input(\"coloque a nota de portguês: \"))\n",
    "geo=float(input(\"coloque a nota de geografia: \"))\n",
    "hist=float(input(\"coloque a nota de história: \"))\n",
    "fis=float(input(\"coloque a nota de física: \"))\n",
    "\n",
    "# mat=5\n",
    "# port=8\n",
    "# geo=8\n",
    "# hist=8\n",
    "# fis=8\n",
    "\n",
    "# media=(mat+port+geo+hist+fis)/5\n",
    "\n",
    "print(f\"o aluno {nome} obteve a média {media:.2f}\")\n",
    "\n",
    "if media>5:\n",
    "    print(\"aprovado! Aproveite as férias\")\n",
    "else:\n",
    "    print(\"reprovado :(\")\n",
    "\n",
    "print(f\"notas\\n Matemática: {mat}\\n{14*'-'}\\nPortuguês: {port}\\n{14*'-'}\\nGeografia: {geo}\\n{14*'-'}\\nHistória: {hist}\\n{14*'-'}\\nFísica:{fis}\\n{14*'-'}\\nMédia: {media:.2f}\")\n",
    "\n",
    "\n"
   ]
  },
  {
   "cell_type": "markdown",
   "metadata": {},
   "source": [
    "# Dia 04/07"
   ]
  },
  {
   "cell_type": "code",
   "execution_count": null,
   "metadata": {},
   "outputs": [],
   "source": [
    "#desafio 1\n",
    "num=int(input(\"digite o número\"))\n",
    "\n",
    "if num % 2 == 0:\n",
    "    print(f\"o número {num} é par\")\n",
    "else:\n",
    "    print(f\"o número {num} é impar\")"
   ]
  },
  {
   "cell_type": "code",
   "execution_count": 15,
   "metadata": {},
   "outputs": [
    {
     "name": "stdout",
     "output_type": "stream",
     "text": [
      "peso excedente\n"
     ]
    }
   ],
   "source": [
    "#desafio 2\n",
    "max=200\n",
    "usu=float(input(\"digite o seu peso\"))\n",
    "carga=float(input(\"digite o peso da carga\"))\n",
    "PTotal= usu+carga\n",
    "\n",
    "if PTotal>max:\n",
    "    print(\"peso excedente\")\n",
    "else:\n",
    "    print(\"autorizado\")"
   ]
  },
  {
   "cell_type": "code",
   "execution_count": 21,
   "metadata": {},
   "outputs": [
    {
     "name": "stdout",
     "output_type": "stream",
     "text": [
      "o aluno HENRIQUE está de recuperação com a média de 5.75\n"
     ]
    }
   ],
   "source": [
    "#desafio 3\n",
    "nome=str(input(\"digite seu nome\").upper())\n",
    "idade=int(input(\"digite sua idade\"))\n",
    "cpf=str(input(\"digite seu CPF\"))\n",
    "n1=float(input(\"nota do primeiro bimestre\"))\n",
    "n2=float(input(\"nota do segundo bimestre\"))\n",
    "n3=float(input(\"nota do terceiro bimestre\"))\n",
    "n4=float(input(\"nota do quarto bimestre\"))\n",
    "media=(n1+n2+n3+n4)/4\n",
    "\n",
    "\n",
    "if idade<18:\n",
    "    print(\"somente para os responsáveis\")\n",
    "else:\n",
    "    if media>=7:\n",
    "        print(f\"o aluno {nome} foi aprovado com a média de {media:.2f}\")\n",
    "    elif media>=5:\n",
    "        print(f\"o aluno {nome} está de recuperação com a média de {media:.2f}\")\n",
    "    else:\n",
    "        print(f\"o aluno {nome} está reprovado com a média de {media:.2f}\")"
   ]
  },
  {
   "cell_type": "markdown",
   "metadata": {},
   "source": [
    "# dia 05/07"
   ]
  },
  {
   "cell_type": "code",
   "execution_count": null,
   "metadata": {},
   "outputs": [],
   "source": [
    "#desafio 1\n",
    "idade=(input(\"qual sua idade?\"))\n",
    "idade = int(idade) \n",
    "\n",
    "altura=(input(\"qual sua altura?\")).replace(',','.')\n",
    "altura=float(altura)\n",
    "\n",
    "if idade<12 or altura<1.20:\n",
    "    print(\"não pode ir :(\")\n",
    "else:\n",
    "    print(\"pode ir :D\")"
   ]
  },
  {
   "cell_type": "code",
   "execution_count": null,
   "metadata": {},
   "outputs": [],
   "source": [
    "#desafio 2\n",
    "print('Responda o seguinte questionario apenas com \"sim\" ou \"nao\"')\n",
    "humor = input(\"Você acordou de bom humor? \")\n",
    "\n",
    "if humor == \"sim\":\n",
    "    humor = True\n",
    "else:\n",
    "    humor = False\n",
    "\n",
    "ishome = input(\"Seu pai chegou em casa?\")\n",
    "\n",
    "if ishome == \"sim\":\n",
    "    ishome = True\n",
    "else:\n",
    "    ishome = False\n",
    "\n",
    "if humor and ishome == True:\n",
    "    print(\"Voce pode ir a praia\")\n",
    "else:\n",
    "    if humor == False:\n",
    "        print(\"melhore seu humor\")\n",
    "    else:\n",
    "        print(\"Seu pai não chegou ainda\")"
   ]
  },
  {
   "cell_type": "code",
   "execution_count": null,
   "metadata": {},
   "outputs": [],
   "source": [
    "#desafio 3\n",
    "alt_r = input(\"Preencha com a sua altura: \").replace(\",\", \".\")\n",
    "alt_r = float(alt_r)\n",
    "\n",
    "pes_r = input(\"Preencha com o seu peso: \").replace(\",\", \".\")\n",
    "pes_r = float(pes_r)\n",
    "\n",
    "mass = pes_r / alt_r ** 2\n",
    "\n",
    "if mass <= 18.5:\n",
    "    print(f\"este e o seu IMV {mass}\")\n",
    "    print(\"Voce está com o peso baixo, procure um medico\")\n",
    "else:\n",
    "    if mass <= 24.9 and not mass >=25:\n",
    "        print(f\"este é o seu IMV {mass}\")\n",
    "        print(f\"Voce esta no peso adequado\")\n",
    "    else:\n",
    "        print(mass)\n",
    "        print(\"Voce está acima do peso\")"
   ]
  },
  {
   "cell_type": "code",
   "execution_count": null,
   "metadata": {},
   "outputs": [],
   "source": [
    "#desafio 4\n",
    "alt_r = input(\"Preencha com a sua altura: \").replace(\",\", \".\")\n",
    "alt_r = float(alt_r)\n",
    "\n",
    "pes_r = input(\"Preencha com o seu peso: \").replace(\",\", \".\")\n",
    "pes_r = float(pes_r)\n",
    "\n",
    "mass = pes_r / alt_r ** 2\n",
    "\n",
    "if mass <= 18.5:\n",
    "    print(mass)\n",
    "    print(\"Voce está com o peso baixo, procure um medico\")\n",
    "elif mass > 18.5 and not mass > 24.9:\n",
    "    print(mass)\n",
    "    print(\"Voce está com o peso adequado, procure aumentar a massa corporal para evitar problemas\")\n",
    "elif mass >= 25 and not mass > 29.9:\n",
    "    print(mass)\n",
    "    print(\"Voce está com sobrepeso, voce pode ter problemas\")\n",
    "elif mass >= 30 and not mass > 34.9:\n",
    "    print(mass)\n",
    "    print(\"Voce está com obesidade grau 1, procure um medico\")\n",
    "elif mass >= 35 and not mass > 39.9:\n",
    "    print(mass)\n",
    "    print(\"Voce está com obesidade grau 2, procure um medico\")\n",
    "else:\n",
    "    print(mass)\n",
    "    print(\"Voce está com obesidade grau 3, procure um medico\")"
   ]
  },
  {
   "cell_type": "code",
   "execution_count": null,
   "metadata": {},
   "outputs": [],
   "source": [
    "#Desafio 05\n",
    "run = True\n",
    "val1 = 0\n",
    "val2 = 0\n",
    "count_n = 0\n",
    "print(f'Calculadora simples, digite \"exit\" para fechar a calculadora: \\n')\n",
    "\n",
    "\n",
    "def math():\n",
    "    global val1\n",
    "    global val2\n",
    "    global run\n",
    "    global count_n \n",
    "    global resul\n",
    "    eq = \" \"\n",
    "\n",
    "    if eq == \"exit\" or val1 == \"exit\" or val2 == \"exit\":\n",
    "        run = False\n",
    "\n",
    "    else:\n",
    "\n",
    "        val1 = resul if count_n > 0 else input(\" \")\n",
    "        eq = input(f\"digite o operando (+ - / ou *)\\n {val1} \")\n",
    "        val2 = input(\" \")\n",
    "        \n",
    "        lasteq = str(val1) + \" \" + eq + \" \" + str(val2)\n",
    "\n",
    "        print(lasteq)\n",
    "        \n",
    "        if eq == \"+\":\n",
    "            resul = int(val1) + int(val2)\n",
    "            print(resul)\n",
    "            count_n = count_n + 1\n",
    "\n",
    "        elif eq == \"-\":\n",
    "            resul = int(val1) - int(val2)\n",
    "            print(resul)\n",
    "            count_n = count_n + 1\n",
    "\n",
    "        elif eq == \"/\":\n",
    "            resul = int(val1) // int(val2)\n",
    "            print(resul)\n",
    "            count_n = count_n + 1\n",
    "\n",
    "        elif eq == \"*\":\n",
    "            resul = int(val1) * int(val2)\n",
    "            print(resul)\n",
    "            count_n = count_n + 1\n",
    "\n",
    "        else:\n",
    "                \n",
    "            print(\"digite um operando valido\") \n",
    "\n",
    "while run == True:\n",
    "    math()"
   ]
  }
 ],
 "metadata": {
  "kernelspec": {
   "display_name": "Python 3 (ipykernel)",
   "language": "python",
   "name": "python3"
  },
  "language_info": {
   "codemirror_mode": {
    "name": "ipython",
    "version": 3
   },
   "file_extension": ".py",
   "mimetype": "text/x-python",
   "name": "python",
   "nbconvert_exporter": "python",
   "pygments_lexer": "ipython3",
   "version": "3.12.4"
  }
 },
 "nbformat": 4,
 "nbformat_minor": 4
}
